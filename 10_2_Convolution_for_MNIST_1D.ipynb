{
 "cells": [
  {
   "cell_type": "markdown",
   "metadata": {
    "colab_type": "text",
    "id": "view-in-github"
   },
   "source": [
    "<a href=\"https://colab.research.google.com/github/udlbook/udlbook/blob/main/Notebooks/Chap10/10_2_Convolution_for_MNIST_1D.ipynb\" target=\"_parent\"><img src=\"https://colab.research.google.com/assets/colab-badge.svg\" alt=\"Open In Colab\"/></a>"
   ]
  },
  {
   "cell_type": "markdown",
   "metadata": {
    "id": "t9vk9Elugvmi"
   },
   "source": [
    "# **Notebook 10.2: Convolution for MNIST-1D**\n",
    "\n",
    "This notebook investigates a 1D convolutional network for MNIST-1D as in figure 10.7 and 10.8a.\n",
    "\n",
    "Work through the cells below, running each cell in turn. In various places you will see the words \"TO DO\". Follow the instructions at these places and make predictions about what is going to happen or write code to complete the functions.\n",
    "\n",
    "Contact me at udlbookmail@gmail.com if you find any mistakes or have any suggestions.\n",
    "\n"
   ]
  },
  {
   "cell_type": "code",
   "execution_count": 1,
   "metadata": {
    "id": "D5yLObtZCi9J"
   },
   "outputs": [
    {
     "name": "stdout",
     "output_type": "stream",
     "text": [
      "Collecting git+https://github.com/greydanus/mnist1d\n",
      "  Cloning https://github.com/greydanus/mnist1d to c:\\users\\georg\\appdata\\local\\temp\\pip-req-build-o0d_cmok\n",
      "  Resolved https://github.com/greydanus/mnist1d to commit 7878d96082abd200c546a07a4101fa90b30fdf7e\n",
      "  Installing build dependencies: started\n",
      "  Installing build dependencies: finished with status 'done'\n",
      "  Getting requirements to build wheel: started\n",
      "  Getting requirements to build wheel: finished with status 'done'\n",
      "  Preparing metadata (pyproject.toml): started\n",
      "  Preparing metadata (pyproject.toml): finished with status 'done'\n",
      "Requirement already satisfied: requests in c:\\users\\georg\\anaconda3\\lib\\site-packages (from mnist1d==0.0.2.post16) (2.31.0)\n",
      "Requirement already satisfied: numpy in c:\\users\\georg\\anaconda3\\lib\\site-packages (from mnist1d==0.0.2.post16) (1.26.4)\n",
      "Requirement already satisfied: matplotlib in c:\\users\\georg\\anaconda3\\lib\\site-packages (from mnist1d==0.0.2.post16) (3.8.0)\n",
      "Requirement already satisfied: scipy in c:\\users\\georg\\anaconda3\\lib\\site-packages (from mnist1d==0.0.2.post16) (1.11.4)\n",
      "Requirement already satisfied: contourpy>=1.0.1 in c:\\users\\georg\\anaconda3\\lib\\site-packages (from matplotlib->mnist1d==0.0.2.post16) (1.2.0)\n",
      "Requirement already satisfied: cycler>=0.10 in c:\\users\\georg\\anaconda3\\lib\\site-packages (from matplotlib->mnist1d==0.0.2.post16) (0.11.0)\n",
      "Requirement already satisfied: fonttools>=4.22.0 in c:\\users\\georg\\anaconda3\\lib\\site-packages (from matplotlib->mnist1d==0.0.2.post16) (4.25.0)\n",
      "Requirement already satisfied: kiwisolver>=1.0.1 in c:\\users\\georg\\anaconda3\\lib\\site-packages (from matplotlib->mnist1d==0.0.2.post16) (1.4.4)\n",
      "Requirement already satisfied: packaging>=20.0 in c:\\users\\georg\\anaconda3\\lib\\site-packages (from matplotlib->mnist1d==0.0.2.post16) (23.1)\n",
      "Requirement already satisfied: pillow>=6.2.0 in c:\\users\\georg\\anaconda3\\lib\\site-packages (from matplotlib->mnist1d==0.0.2.post16) (10.2.0)\n",
      "Requirement already satisfied: pyparsing>=2.3.1 in c:\\users\\georg\\anaconda3\\lib\\site-packages (from matplotlib->mnist1d==0.0.2.post16) (3.0.9)\n",
      "Requirement already satisfied: python-dateutil>=2.7 in c:\\users\\georg\\anaconda3\\lib\\site-packages (from matplotlib->mnist1d==0.0.2.post16) (2.8.2)\n",
      "Requirement already satisfied: importlib-resources>=3.2.0 in c:\\users\\georg\\anaconda3\\lib\\site-packages (from matplotlib->mnist1d==0.0.2.post16) (6.1.1)\n",
      "Requirement already satisfied: charset-normalizer<4,>=2 in c:\\users\\georg\\anaconda3\\lib\\site-packages (from requests->mnist1d==0.0.2.post16) (2.0.4)\n",
      "Requirement already satisfied: idna<4,>=2.5 in c:\\users\\georg\\anaconda3\\lib\\site-packages (from requests->mnist1d==0.0.2.post16) (3.4)\n",
      "Requirement already satisfied: urllib3<3,>=1.21.1 in c:\\users\\georg\\anaconda3\\lib\\site-packages (from requests->mnist1d==0.0.2.post16) (1.26.18)\n",
      "Requirement already satisfied: certifi>=2017.4.17 in c:\\users\\georg\\anaconda3\\lib\\site-packages (from requests->mnist1d==0.0.2.post16) (2024.2.2)\n",
      "Requirement already satisfied: zipp>=3.1.0 in c:\\users\\georg\\anaconda3\\lib\\site-packages (from importlib-resources>=3.2.0->matplotlib->mnist1d==0.0.2.post16) (3.17.0)\n",
      "Requirement already satisfied: six>=1.5 in c:\\users\\georg\\anaconda3\\lib\\site-packages (from python-dateutil>=2.7->matplotlib->mnist1d==0.0.2.post16) (1.16.0)\n",
      "Building wheels for collected packages: mnist1d\n",
      "  Building wheel for mnist1d (pyproject.toml): started\n",
      "  Building wheel for mnist1d (pyproject.toml): finished with status 'done'\n",
      "  Created wheel for mnist1d: filename=mnist1d-0.0.2.post16-py3-none-any.whl size=14720 sha256=fe9445e0a3ec165c15402dc2cce91425ee103494db101de6dd14ea8cf659a6c9\n",
      "  Stored in directory: C:\\Users\\georg\\AppData\\Local\\Temp\\pip-ephem-wheel-cache-ybof8m3u\\wheels\\c4\\34\\e0\\a3b4376888d7486638e921a69788a6309c58168eb2b2183b5b\n",
      "Successfully built mnist1d\n",
      "Installing collected packages: mnist1d\n",
      "  Attempting uninstall: mnist1d\n",
      "    Found existing installation: mnist1d 0.0.2.post15\n",
      "    Uninstalling mnist1d-0.0.2.post15:\n",
      "      Successfully uninstalled mnist1d-0.0.2.post15\n",
      "Successfully installed mnist1d-0.0.2.post16\n"
     ]
    },
    {
     "name": "stderr",
     "output_type": "stream",
     "text": [
      "  Running command git clone --filter=blob:none --quiet https://github.com/greydanus/mnist1d 'C:\\Users\\georg\\AppData\\Local\\Temp\\pip-req-build-o0d_cmok'\n"
     ]
    }
   ],
   "source": [
    "# Run this if you're in a Colab to install MNIST 1D repository\n",
    "!pip install git+https://github.com/greydanus/mnist1d"
   ]
  },
  {
   "cell_type": "code",
   "execution_count": 2,
   "metadata": {
    "id": "YrXWAH7sUWvU"
   },
   "outputs": [],
   "source": [
    "import numpy as np\n",
    "import os\n",
    "import torch, torch.nn as nn\n",
    "from torch.utils.data import TensorDataset, DataLoader\n",
    "from torch.optim.lr_scheduler import StepLR\n",
    "import matplotlib.pyplot as plt\n",
    "import mnist1d\n",
    "import random"
   ]
  },
  {
   "cell_type": "code",
   "execution_count": 3,
   "metadata": {
    "id": "twI72ZCrCt5z"
   },
   "outputs": [
    {
     "name": "stdout",
     "output_type": "stream",
     "text": [
      "Successfully loaded data from ./mnist1d_data.pkl\n",
      "Examples in training set: 4000\n",
      "Examples in test set: 1000\n",
      "Length of each example: 40\n"
     ]
    }
   ],
   "source": [
    "args = mnist1d.data.get_dataset_args()\n",
    "data = mnist1d.data.get_dataset(args, path='./mnist1d_data.pkl', download=False, regenerate=False)\n",
    "\n",
    "# The training and test input and outputs are in\n",
    "# data['x'], data['y'], data['x_test'], and data['y_test']\n",
    "print(\"Examples in training set: {}\".format(len(data['y'])))\n",
    "print(\"Examples in test set: {}\".format(len(data['y_test'])))\n",
    "print(\"Length of each example: {}\".format(data['x'].shape[-1]))"
   ]
  },
  {
   "cell_type": "code",
   "execution_count": 4,
   "metadata": {
    "id": "8bKADvLHbiV5"
   },
   "outputs": [
    {
     "name": "stdout",
     "output_type": "stream",
     "text": [
      "Train data: 4000 examples (columns), each of which has 40 dimensions (rows)\n",
      "Validation data: 1000 examples (columns), each of which has 40 dimensions (rows)\n"
     ]
    }
   ],
   "source": [
    "# Load in the data\n",
    "train_data_x = data['x'].transpose()\n",
    "train_data_y = data['y']\n",
    "val_data_x = data['x_test'].transpose()\n",
    "val_data_y = data['y_test']\n",
    "# Print out sizes\n",
    "print(\"Train data: %d examples (columns), each of which has %d dimensions (rows)\"%((train_data_x.shape[1],train_data_x.shape[0])))\n",
    "print(\"Validation data: %d examples (columns), each of which has %d dimensions (rows)\"%((val_data_x.shape[1],val_data_x.shape[0])))"
   ]
  },
  {
   "cell_type": "markdown",
   "metadata": {
    "id": "_sFvRDGrl4qe"
   },
   "source": [
    "Define the network"
   ]
  },
  {
   "cell_type": "code",
   "execution_count": 5,
   "metadata": {
    "id": "FslroPJJffrh"
   },
   "outputs": [
    {
     "data": {
      "text/plain": [
       "'\\nn.Flatten(),\\nnn.Linear(40, 100),\\nnn.ReLU(),\\nnn.Linear(100, 100),\\nnn.ReLU(),\\nnn.Linear(100, 10))\\n'"
      ]
     },
     "execution_count": 5,
     "metadata": {},
     "output_type": "execute_result"
    }
   ],
   "source": [
    "# There are 40 input dimensions and 10 output dimensions for this data\n",
    "# The inputs correspond to the 40 offsets in the MNIST1D template.\n",
    "D_i = 40\n",
    "# The outputs correspond to the 10 digits\n",
    "D_o = 10\n",
    "\n",
    "\n",
    "# TODO Create a model with the following layers\n",
    "# 1. Convolutional layer, (input=length 40 and 1 channel, kernel size 3, stride 2, padding=\"valid\", 15 output channels )\n",
    "# 2. ReLU\n",
    "# 3. Convolutional layer, (input=length 19 and 15 channels, kernel size 3, stride 2, padding=\"valid\", 15 output channels )\n",
    "# 4. ReLU\n",
    "# 5. Convolutional layer, (input=length 9 and 15 channels, kernel size 3, stride 2, padding=\"valid\", 15 output channels)\n",
    "# 6. ReLU\n",
    "# 7. Flatten (converts 4x15) to length 60\n",
    "# 8. Linear layer (input size = 60, output size = 10)\n",
    "# References:\n",
    "# https://pytorch.org/docs/1.13/generated/torch.nn.Conv1d.html?highlight=conv1d#torch.nn.Conv1d\n",
    "# https://pytorch.org/docs/stable/generated/torch.nn.Flatten.html\n",
    "# https://pytorch.org/docs/1.13/generated/torch.nn.Linear.html?highlight=linear#torch.nn.Linear\n",
    "\n",
    "# NOTE THAT THE CONVOLUTIONAL LAYERS NEED TO TAKE THE NUMBER OF INPUT CHANNELS AS A PARAMETER\n",
    "# AND NOT THE INPUT SIZE.\n",
    "\n",
    "# Replace the following function:\n",
    "model = nn.Sequential(\n",
    "nn.Conv1d(1, 15, 3, 2, padding=\"valid\"),\n",
    "nn.ReLU(),\n",
    "nn.Conv1d(15, 15, 3, 2, padding=\"valid\"),\n",
    "nn.ReLU(),\n",
    "nn.Conv1d(15, 15, 3, 2, padding=\"valid\"),\n",
    "nn.ReLU(),\n",
    "nn.Flatten(),\n",
    "nn.Linear(60, 10)\n",
    ")\n",
    "\n",
    "#####\n",
    "'''\n",
    "n.Flatten(),\n",
    "nn.Linear(40, 100),\n",
    "nn.ReLU(),\n",
    "nn.Linear(100, 100),\n",
    "nn.ReLU(),\n",
    "nn.Linear(100, 10))\n",
    "'''\n",
    "\n",
    "\n"
   ]
  },
  {
   "cell_type": "code",
   "execution_count": 6,
   "metadata": {
    "id": "YgLaex1pfhqz"
   },
   "outputs": [],
   "source": [
    "# He initialization of weights\n",
    "def weights_init(layer_in):\n",
    "  if isinstance(layer_in, nn.Linear):\n",
    "    nn.init.kaiming_uniform_(layer_in.weight)\n",
    "    layer_in.bias.data.fill_(0.0)"
   ]
  },
  {
   "cell_type": "code",
   "execution_count": null,
   "metadata": {
    "id": "NYw8I_3mmX5c"
   },
   "outputs": [
    {
     "name": "stdout",
     "output_type": "stream",
     "text": [
      "Epoch     0, train loss 1.915151, train error 75.75,  val loss 1.915648, percent error 78.00\n",
      "Epoch     1, train loss 1.556637, train error 61.05,  val loss 1.573053, percent error 63.00\n",
      "Epoch     2, train loss 1.394205, train error 56.17,  val loss 1.419114, percent error 58.70\n",
      "Epoch     3, train loss 1.282007, train error 51.25,  val loss 1.312380, percent error 54.40\n",
      "Epoch     4, train loss 1.283606, train error 52.80,  val loss 1.313188, percent error 54.70\n",
      "Epoch     5, train loss 1.146468, train error 46.05,  val loss 1.171881, percent error 48.20\n",
      "Epoch     6, train loss 1.056706, train error 40.88,  val loss 1.092210, percent error 45.70\n",
      "Epoch     7, train loss 1.027330, train error 43.00,  val loss 1.059896, percent error 45.20\n",
      "Epoch     8, train loss 0.975439, train error 37.80,  val loss 1.011278, percent error 40.60\n",
      "Epoch     9, train loss 0.829387, train error 33.50,  val loss 0.881838, percent error 36.20\n",
      "Epoch    10, train loss 0.705416, train error 26.90,  val loss 0.755617, percent error 27.60\n",
      "Epoch    11, train loss 0.685694, train error 26.80,  val loss 0.738113, percent error 29.10\n",
      "Epoch    12, train loss 0.567039, train error 21.40,  val loss 0.638850, percent error 25.40\n",
      "Epoch    13, train loss 0.540216, train error 20.20,  val loss 0.608477, percent error 22.40\n",
      "Epoch    14, train loss 0.478555, train error 17.50,  val loss 0.579236, percent error 21.30\n",
      "Epoch    15, train loss 0.413044, train error 14.70,  val loss 0.484391, percent error 16.90\n",
      "Epoch    16, train loss 0.342888, train error 12.05,  val loss 0.426541, percent error 15.10\n",
      "Epoch    17, train loss 0.351540, train error 12.88,  val loss 0.466872, percent error 16.10\n",
      "Epoch    18, train loss 0.270097, train error 9.40,  val loss 0.417335, percent error 14.40\n",
      "Epoch    19, train loss 0.270826, train error 9.12,  val loss 0.397473, percent error 13.70\n",
      "Epoch    20, train loss 0.192854, train error 6.15,  val loss 0.321758, percent error 10.50\n",
      "Epoch    21, train loss 0.175013, train error 5.75,  val loss 0.313230, percent error 9.30\n",
      "Epoch    22, train loss 0.168982, train error 5.22,  val loss 0.303379, percent error 9.80\n",
      "Epoch    23, train loss 0.156567, train error 5.15,  val loss 0.324949, percent error 9.60\n",
      "Epoch    24, train loss 0.150778, train error 4.88,  val loss 0.309841, percent error 9.30\n",
      "Epoch    25, train loss 0.146789, train error 5.18,  val loss 0.318417, percent error 10.90\n",
      "Epoch    26, train loss 0.123957, train error 4.32,  val loss 0.307849, percent error 9.40\n",
      "Epoch    27, train loss 0.119605, train error 3.90,  val loss 0.319899, percent error 8.90\n",
      "Epoch    28, train loss 0.116495, train error 3.82,  val loss 0.314674, percent error 8.70\n",
      "Epoch    29, train loss 0.146372, train error 5.62,  val loss 0.342877, percent error 11.00\n",
      "Epoch    30, train loss 0.120916, train error 4.47,  val loss 0.349527, percent error 10.00\n",
      "Epoch    31, train loss 0.127075, train error 4.40,  val loss 0.342796, percent error 9.80\n",
      "Epoch    32, train loss 0.120391, train error 4.12,  val loss 0.332860, percent error 11.30\n",
      "Epoch    33, train loss 0.111762, train error 3.90,  val loss 0.338849, percent error 11.30\n",
      "Epoch    34, train loss 0.091932, train error 2.97,  val loss 0.326893, percent error 9.40\n",
      "Epoch    35, train loss 0.091120, train error 3.28,  val loss 0.337516, percent error 9.70\n",
      "Epoch    36, train loss 0.087409, train error 3.18,  val loss 0.336978, percent error 9.80\n",
      "Epoch    37, train loss 0.088944, train error 3.20,  val loss 0.337467, percent error 10.00\n",
      "Epoch    38, train loss 0.076907, train error 2.38,  val loss 0.331712, percent error 9.30\n",
      "Epoch    39, train loss 0.074066, train error 2.38,  val loss 0.317645, percent error 9.10\n",
      "Epoch    40, train loss 0.066657, train error 2.07,  val loss 0.317229, percent error 8.60\n",
      "Epoch    41, train loss 0.063674, train error 2.03,  val loss 0.334249, percent error 9.10\n",
      "Epoch    42, train loss 0.063509, train error 1.72,  val loss 0.326765, percent error 8.60\n",
      "Epoch    43, train loss 0.058259, train error 1.65,  val loss 0.328229, percent error 8.60\n",
      "Epoch    44, train loss 0.056338, train error 1.65,  val loss 0.345081, percent error 9.20\n",
      "Epoch    45, train loss 0.056746, train error 1.55,  val loss 0.334008, percent error 8.20\n",
      "Epoch    46, train loss 0.058468, train error 1.70,  val loss 0.345456, percent error 9.10\n",
      "Epoch    47, train loss 0.054832, train error 1.47,  val loss 0.337628, percent error 9.40\n",
      "Epoch    48, train loss 0.053314, train error 1.53,  val loss 0.351321, percent error 10.00\n",
      "Epoch    49, train loss 0.051775, train error 1.53,  val loss 0.344828, percent error 9.20\n",
      "Epoch    50, train loss 0.053414, train error 1.70,  val loss 0.342174, percent error 9.10\n",
      "Epoch    51, train loss 0.046889, train error 1.22,  val loss 0.348948, percent error 8.80\n",
      "Epoch    52, train loss 0.046747, train error 1.20,  val loss 0.353705, percent error 9.40\n",
      "Epoch    53, train loss 0.049899, train error 1.35,  val loss 0.359366, percent error 9.10\n",
      "Epoch    54, train loss 0.045830, train error 1.20,  val loss 0.361963, percent error 9.50\n",
      "Epoch    55, train loss 0.044088, train error 1.03,  val loss 0.366327, percent error 8.80\n",
      "Epoch    56, train loss 0.044947, train error 1.07,  val loss 0.353068, percent error 9.60\n",
      "Epoch    57, train loss 0.043993, train error 1.18,  val loss 0.361800, percent error 9.30\n",
      "Epoch    58, train loss 0.039067, train error 0.75,  val loss 0.362615, percent error 8.80\n",
      "Epoch    59, train loss 0.040372, train error 0.88,  val loss 0.361392, percent error 9.30\n",
      "Epoch    60, train loss 0.036292, train error 0.70,  val loss 0.361166, percent error 9.00\n",
      "Epoch    61, train loss 0.037310, train error 0.88,  val loss 0.379214, percent error 9.20\n",
      "Epoch    62, train loss 0.036999, train error 0.95,  val loss 0.366769, percent error 9.10\n",
      "Epoch    63, train loss 0.039408, train error 0.97,  val loss 0.385508, percent error 9.00\n",
      "Epoch    64, train loss 0.034447, train error 0.62,  val loss 0.371842, percent error 9.30\n",
      "Epoch    65, train loss 0.033498, train error 0.62,  val loss 0.369916, percent error 9.00\n",
      "Epoch    66, train loss 0.033789, train error 0.65,  val loss 0.380136, percent error 9.10\n",
      "Epoch    67, train loss 0.032535, train error 0.62,  val loss 0.379844, percent error 9.40\n",
      "Epoch    68, train loss 0.032386, train error 0.60,  val loss 0.375817, percent error 8.50\n",
      "Epoch    69, train loss 0.031931, train error 0.62,  val loss 0.378191, percent error 8.70\n",
      "Epoch    70, train loss 0.032039, train error 0.62,  val loss 0.381729, percent error 9.00\n",
      "Epoch    71, train loss 0.031462, train error 0.65,  val loss 0.378543, percent error 8.90\n",
      "Epoch    72, train loss 0.030630, train error 0.62,  val loss 0.382984, percent error 9.00\n",
      "Epoch    73, train loss 0.030491, train error 0.53,  val loss 0.385334, percent error 9.20\n",
      "Epoch    74, train loss 0.031895, train error 0.70,  val loss 0.390836, percent error 9.00\n",
      "Epoch    75, train loss 0.032293, train error 0.72,  val loss 0.382237, percent error 8.50\n",
      "Epoch    76, train loss 0.030101, train error 0.62,  val loss 0.385269, percent error 8.80\n",
      "Epoch    77, train loss 0.032138, train error 0.65,  val loss 0.397684, percent error 9.10\n",
      "Epoch    78, train loss 0.029218, train error 0.57,  val loss 0.387882, percent error 8.80\n",
      "Epoch    79, train loss 0.028385, train error 0.57,  val loss 0.390806, percent error 9.20\n",
      "Epoch    80, train loss 0.027891, train error 0.50,  val loss 0.388298, percent error 9.20\n",
      "Epoch    81, train loss 0.027957, train error 0.45,  val loss 0.393164, percent error 9.00\n",
      "Epoch    82, train loss 0.027645, train error 0.43,  val loss 0.392288, percent error 9.00\n",
      "Epoch    83, train loss 0.027994, train error 0.47,  val loss 0.396223, percent error 9.00\n",
      "Epoch    84, train loss 0.028035, train error 0.57,  val loss 0.387222, percent error 8.70\n",
      "Epoch    85, train loss 0.026948, train error 0.53,  val loss 0.390071, percent error 8.70\n",
      "Epoch    86, train loss 0.026765, train error 0.45,  val loss 0.393743, percent error 9.00\n",
      "Epoch    87, train loss 0.026574, train error 0.47,  val loss 0.393164, percent error 8.80\n",
      "Epoch    88, train loss 0.026569, train error 0.45,  val loss 0.394033, percent error 8.90\n",
      "Epoch    89, train loss 0.026536, train error 0.45,  val loss 0.397733, percent error 9.30\n"
     ]
    },
    {
     "name": "stdout",
     "output_type": "stream",
     "text": [
      "Epoch    90, train loss 0.026311, train error 0.45,  val loss 0.394473, percent error 8.70\n",
      "Epoch    91, train loss 0.026065, train error 0.43,  val loss 0.398289, percent error 8.80\n",
      "Epoch    92, train loss 0.025859, train error 0.50,  val loss 0.395829, percent error 8.80\n",
      "Epoch    93, train loss 0.025797, train error 0.45,  val loss 0.396433, percent error 8.80\n",
      "Epoch    94, train loss 0.025661, train error 0.45,  val loss 0.399528, percent error 8.80\n",
      "Epoch    95, train loss 0.025449, train error 0.43,  val loss 0.399466, percent error 9.10\n",
      "Epoch    96, train loss 0.025529, train error 0.43,  val loss 0.402205, percent error 8.60\n",
      "Epoch    97, train loss 0.025256, train error 0.43,  val loss 0.400952, percent error 8.80\n",
      "Epoch    98, train loss 0.025221, train error 0.50,  val loss 0.399087, percent error 8.60\n",
      "Epoch    99, train loss 0.024823, train error 0.45,  val loss 0.401029, percent error 8.80\n"
     ]
    }
   ],
   "source": [
    "# choose cross entropy loss function (equation 5.24 in the loss notes)\n",
    "loss_function = nn.CrossEntropyLoss()\n",
    "# construct SGD optimizer and initialize learning rate and momentum\n",
    "optimizer = torch.optim.SGD(model.parameters(), lr = 0.05, momentum=0.9)\n",
    "# object that decreases learning rate by half every 20 epochs\n",
    "scheduler = StepLR(optimizer, step_size=20, gamma=0.5)\n",
    "# create 100 dummy data points and store in data loader class\n",
    "x_train = torch.tensor(train_data_x.transpose().astype('float32'))\n",
    "y_train = torch.tensor(train_data_y.astype('long')).long()\n",
    "x_val= torch.tensor(val_data_x.transpose().astype('float32'))\n",
    "y_val = torch.tensor(val_data_y.astype('long')).long()\n",
    "\n",
    "# load the data into a class that creates the batches\n",
    "data_loader = DataLoader(TensorDataset(x_train,y_train), batch_size=100, shuffle=True, worker_init_fn=np.random.seed(1))\n",
    "\n",
    "# Initialize model weights\n",
    "model.apply(weights_init)\n",
    "\n",
    "# loop over the dataset n_epoch times\n",
    "n_epoch = 100\n",
    "# store the loss and the % correct at each epoch\n",
    "losses_train = np.zeros((n_epoch))\n",
    "errors_train = np.zeros((n_epoch))\n",
    "losses_val = np.zeros((n_epoch))\n",
    "errors_val = np.zeros((n_epoch))\n",
    "\n",
    "for epoch in range(n_epoch):\n",
    "  # loop over batches\n",
    "  for i, data in enumerate(data_loader):\n",
    "    # retrieve inputs and labels for this batch\n",
    "    x_batch, y_batch = data\n",
    "    # zero the parameter gradients\n",
    "    optimizer.zero_grad()\n",
    "    # forward pass -- calculate model output\n",
    "    pred = model(x_batch[:,None,:])\n",
    "    # compute the loss\n",
    "    loss = loss_function(pred, y_batch)\n",
    "    # backward pass\n",
    "    loss.backward()\n",
    "    # SGD update\n",
    "    optimizer.step()\n",
    "\n",
    "  # Run whole dataset to get statistics -- normally wouldn't do this\n",
    "  pred_train = model(x_train[:,None,:])\n",
    "  pred_val = model(x_val[:,None,:])\n",
    "  _, predicted_train_class = torch.max(pred_train.data, 1)\n",
    "  _, predicted_val_class = torch.max(pred_val.data, 1)\n",
    "  errors_train[epoch] = 100 - 100 * (predicted_train_class == y_train).float().sum() / len(y_train)\n",
    "  errors_val[epoch]= 100 - 100 * (predicted_val_class == y_val).float().sum() / len(y_val)\n",
    "  losses_train[epoch] = loss_function(pred_train, y_train).item()\n",
    "  losses_val[epoch]= loss_function(pred_val, y_val).item()\n",
    "  print(f'Epoch {epoch:5d}, train loss {losses_train[epoch]:.6f}, train error {errors_train[epoch]:3.2f},  val loss {losses_val[epoch]:.6f}, percent error {errors_val[epoch]:3.2f}')\n",
    "\n",
    "  # tell scheduler to consider updating learning rate\n",
    "  scheduler.step()\n",
    "\n",
    "# Plot the results\n",
    "fig, ax = plt.subplots()\n",
    "ax.plot(errors_train,'r-',label='train')\n",
    "ax.plot(errors_val,'b-',label='validation')\n",
    "ax.set_ylim(0,100); ax.set_xlim(0,n_epoch)\n",
    "ax.set_xlabel('Epoch'); ax.set_ylabel('Error')\n",
    "ax.set_title('Part I: Validation Result %3.2f'%(errors_val[-1]))\n",
    "ax.legend()\n",
    "plt.show()"
   ]
  },
  {
   "cell_type": "code",
   "execution_count": null,
   "metadata": {},
   "outputs": [],
   "source": []
  }
 ],
 "metadata": {
  "colab": {
   "authorship_tag": "ABX9TyNb46PJB/CC1pcHGfjpUUZg",
   "include_colab_link": true,
   "provenance": []
  },
  "kernelspec": {
   "display_name": "Python 3 (ipykernel)",
   "language": "python",
   "name": "python3"
  },
  "language_info": {
   "codemirror_mode": {
    "name": "ipython",
    "version": 3
   },
   "file_extension": ".py",
   "mimetype": "text/x-python",
   "name": "python",
   "nbconvert_exporter": "python",
   "pygments_lexer": "ipython3",
   "version": "3.9.18"
  }
 },
 "nbformat": 4,
 "nbformat_minor": 1
}
